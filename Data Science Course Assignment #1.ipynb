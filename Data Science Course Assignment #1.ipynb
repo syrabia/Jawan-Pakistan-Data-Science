{
 "cells": [
  {
   "cell_type": "code",
   "execution_count": 10,
   "id": "9c86ba12",
   "metadata": {},
   "outputs": [
    {
     "name": "stdout",
     "output_type": "stream",
     "text": [
      "Twinkle, twinkle, little star, \n",
      "\tHow I wonder what you are! \n",
      "\t\tUp above the world so high, \n",
      "\t\tLike a diamond in the sky. \n",
      "Twinkle, twinkle, little star, \n",
      "\tHow I wonder what you are!\n"
     ]
    }
   ],
   "source": [
    "print(\"Twinkle, twinkle, little star, \\n\\tHow I wonder what you are! \\n\\t\\tUp above the world so high, \\n\\t\\tLike a diamond in the sky. \\nTwinkle, twinkle, little star, \\n\\tHow I wonder what you are!\")"
   ]
  },
  {
   "cell_type": "code",
   "execution_count": 9,
   "id": "a29d0e6b",
   "metadata": {},
   "outputs": [
    {
     "name": "stdout",
     "output_type": "stream",
     "text": [
      "Python 3.8.10\n"
     ]
    }
   ],
   "source": [
    "!python --version"
   ]
  },
  {
   "cell_type": "code",
   "execution_count": 4,
   "id": "5e4cac3b",
   "metadata": {},
   "outputs": [
    {
     "name": "stdout",
     "output_type": "stream",
     "text": [
      "now = 2021-12-28 20:47:00.916324\n"
     ]
    }
   ],
   "source": [
    "from datetime import datetime\n",
    "date_time = datetime.now()\n",
    "print(\"Date & Time =\", date_time)"
   ]
  },
  {
   "cell_type": "code",
   "execution_count": 5,
   "id": "35f2b15c",
   "metadata": {},
   "outputs": [
    {
     "name": "stdout",
     "output_type": "stream",
     "text": [
      "Enter radius of circle : 3\n",
      "Area of the circle is: 28.274333882308138\n"
     ]
    }
   ],
   "source": [
    "from math import pi\n",
    "radius = float(input (\"Enter radius of circle : \"))\n",
    "print (\"Area of the circle is: \" + str(pi * radius**2))"
   ]
  },
  {
   "cell_type": "code",
   "execution_count": 6,
   "id": "46097ff3",
   "metadata": {},
   "outputs": [
    {
     "name": "stdout",
     "output_type": "stream",
     "text": [
      "What is your last name?:rabia\n",
      "What is your last?jamil\n",
      "aibar limaj\n"
     ]
    }
   ],
   "source": [
    "firstname = input(\"What is your last name?: \")\n",
    "lastname = input(\"What is your last? \")\n",
    "print(firstname[::-1] + \" \" + lastname[::-1])\n"
   ]
  },
  {
   "cell_type": "code",
   "execution_count": 11,
   "id": "b560aceb",
   "metadata": {},
   "outputs": [
    {
     "name": "stdout",
     "output_type": "stream",
     "text": [
      "enter first number: 4\n",
      "enter second number: 5\n",
      "sum: 9\n"
     ]
    }
   ],
   "source": [
    "num1 = int(input(\"enter first number: \"))\n",
    "num2 = int(input(\"enter second number: \"))\n",
    "sum = num1 + num2\n",
    "print(\"sum:\", sum)"
   ]
  },
  {
   "cell_type": "code",
   "execution_count": null,
   "id": "64644a9a",
   "metadata": {},
   "outputs": [],
   "source": []
  }
 ],
 "metadata": {
  "kernelspec": {
   "display_name": "Python 3",
   "language": "python",
   "name": "python3"
  },
  "language_info": {
   "codemirror_mode": {
    "name": "ipython",
    "version": 3
   },
   "file_extension": ".py",
   "mimetype": "text/x-python",
   "name": "python",
   "nbconvert_exporter": "python",
   "pygments_lexer": "ipython3",
   "version": "3.8.10"
  }
 },
 "nbformat": 4,
 "nbformat_minor": 5
}
